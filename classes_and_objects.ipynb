{
 "cells": [
  {
   "cell_type": "code",
   "execution_count": 1,
   "metadata": {
    "collapsed": true
   },
   "outputs": [],
   "source": [
    "class Python():\n",
    "    pass\n"
   ]
  },
  {
   "cell_type": "code",
   "execution_count": 2,
   "metadata": {
    "collapsed": true
   },
   "outputs": [],
   "source": [
    "p = Python()"
   ]
  },
  {
   "cell_type": "code",
   "execution_count": 3,
   "metadata": {},
   "outputs": [
    {
     "name": "stdout",
     "output_type": "stream",
     "text": [
      "<__main__.Python object at 0x109fe65f8>\n"
     ]
    }
   ],
   "source": [
    "print(p)"
   ]
  },
  {
   "cell_type": "code",
   "execution_count": 21,
   "metadata": {
    "collapsed": true
   },
   "outputs": [],
   "source": [
    "# create another class with a constructor method \n",
    "class Dog():\n",
    "    \n",
    "    color = \"brown\"\n",
    "    \n",
    "    def __init__(self, w=0):\n",
    "        self.animal = \"Dog\"\n",
    "        self.weight = w"
   ]
  },
  {
   "cell_type": "code",
   "execution_count": 22,
   "metadata": {},
   "outputs": [
    {
     "name": "stdout",
     "output_type": "stream",
     "text": [
      "Dog\n",
      "0\n",
      "brown\n"
     ]
    }
   ],
   "source": [
    "d1 = Dog()\n",
    "print(d1.animal)\n",
    "print(d1.weight)\n",
    "print(d1.color)"
   ]
  },
  {
   "cell_type": "code",
   "execution_count": 23,
   "metadata": {},
   "outputs": [
    {
     "name": "stdout",
     "output_type": "stream",
     "text": [
      "Dog\n",
      "100\n",
      "brown\n"
     ]
    }
   ],
   "source": [
    "d2 = Dog(100)\n",
    "print(d2.animal)\n",
    "print(d2.weight)\n",
    "print(d2.color)\n"
   ]
  },
  {
   "cell_type": "code",
   "execution_count": 35,
   "metadata": {},
   "outputs": [],
   "source": [
    "class Dog():\n",
    "    \n",
    "    color = \"brown\"\n",
    "    \n",
    "    def __init__(self, c=\"\"):\n",
    "        self.color = c\n"
   ]
  },
  {
   "cell_type": "code",
   "execution_count": 36,
   "metadata": {},
   "outputs": [
    {
     "name": "stdout",
     "output_type": "stream",
     "text": [
      "Dog color is : \n",
      "Dog color is : brown\n"
     ]
    }
   ],
   "source": [
    "d = Dog()\n",
    "print(\"Dog color is : \" + str(d.color))\n",
    "print(\"Dog color is : \" + str(Dog.color))"
   ]
  },
  {
   "cell_type": "code",
   "execution_count": 43,
   "metadata": {},
   "outputs": [],
   "source": [
    "class A(object): \n",
    "    def __init__(self, something): \n",
    "        print(\"A init called\") \n",
    "        self.something = something \n",
    "\n",
    "          \n",
    "class B(A): \n",
    "    def __init__(self, something): \n",
    "        # Calling init of parent class       \n",
    "        print(\"B init called\") \n",
    "        self.something = something \n",
    "        A.__init__(self, something) \n",
    " "
   ]
  },
  {
   "cell_type": "code",
   "execution_count": 44,
   "metadata": {},
   "outputs": [
    {
     "name": "stdout",
     "output_type": "stream",
     "text": [
      "B init called\n",
      "A init called\n"
     ]
    }
   ],
   "source": [
    "obj = B(\"Something\") "
   ]
  },
  {
   "cell_type": "code",
   "execution_count": null,
   "metadata": {
    "collapsed": true
   },
   "outputs": [],
   "source": []
  }
 ],
 "metadata": {
  "kernelspec": {
   "display_name": "Python 3",
   "language": "python",
   "name": "python3"
  },
  "language_info": {
   "codemirror_mode": {
    "name": "ipython",
    "version": 3
   },
   "file_extension": ".py",
   "mimetype": "text/x-python",
   "name": "python",
   "nbconvert_exporter": "python",
   "pygments_lexer": "ipython3",
   "version": "3.6.3"
  }
 },
 "nbformat": 4,
 "nbformat_minor": 2
}
