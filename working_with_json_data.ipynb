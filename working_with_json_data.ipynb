{
 "cells": [
  {
   "cell_type": "markdown",
   "metadata": {},
   "source": [
    "## Serialization and Deserialization\n",
    "\n",
    "Very good resource to get things started - https://www.programiz.com/python-programming/json\n"
   ]
  },
  {
   "cell_type": "code",
   "execution_count": 1,
   "metadata": {},
   "outputs": [
    {
     "data": {
      "text/plain": [
       "{'age': 12, 'city': 'Boulder', 'name': 'Chaya', 'type': 'Canine'}"
      ]
     },
     "execution_count": 1,
     "metadata": {},
     "output_type": "execute_result"
    }
   ],
   "source": [
    "import json\n",
    "import pandas as pd\n",
    "# Create and populate the dictionary\n",
    "dict = {}\n",
    "dict[\"name\"] = \"Chaya\"\n",
    "dict[\"age\"] = 12\n",
    "dict[\"city\"] = \"Boulder\"\n",
    "dict[\"type\"] = \"Canine\"\n",
    "\n",
    "dict"
   ]
  },
  {
   "cell_type": "code",
   "execution_count": 2,
   "metadata": {},
   "outputs": [
    {
     "name": "stdout",
     "output_type": "stream",
     "text": [
      "{\"name\": \"Chaya\", \"age\": 12, \"city\": \"Boulder\", \"type\": \"Canine\"}\n",
      "<class 'str'>\n"
     ]
    }
   ],
   "source": [
    "# json dump-s\n",
    "json_example = json.dumps(dict, ensure_ascii=False)\n",
    "\n",
    "print(json_example)\n",
    "print(type(json_example))"
   ]
  },
  {
   "cell_type": "markdown",
   "metadata": {},
   "source": [
    "### JSON to Python Dictionary"
   ]
  },
  {
   "cell_type": "code",
   "execution_count": 3,
   "metadata": {},
   "outputs": [
    {
     "data": {
      "text/plain": [
       "str"
      ]
     },
     "execution_count": 3,
     "metadata": {},
     "output_type": "execute_result"
    }
   ],
   "source": [
    "# consider a sample\n",
    "json_sample =  '{ \"name\":\"Chaya\", \"age\":12, \"city\":\"Boulder\", \"type\":\"Canine\" }'\n",
    "\n",
    "type(json_sample)"
   ]
  },
  {
   "cell_type": "code",
   "execution_count": 5,
   "metadata": {},
   "outputs": [
    {
     "name": "stdout",
     "output_type": "stream",
     "text": [
      "{'name': 'Chaya', 'age': 12, 'city': 'Boulder', 'type': 'Canine'}\n",
      "<class 'dict'>\n"
     ]
    }
   ],
   "source": [
    "# Load JSON into dictionary\n",
    "data_sample = json.loads(json_sample)\n",
    "print(data_sample)\n",
    "print(type(data_sample))"
   ]
  },
  {
   "cell_type": "markdown",
   "metadata": {},
   "source": [
    "### Import and Read JSON file"
   ]
  },
  {
   "cell_type": "code",
   "execution_count": 7,
   "metadata": {
    "collapsed": true
   },
   "outputs": [],
   "source": [
    "import json\n",
    "\n",
    "with open('apod.json', 'r') as f:\n",
    "    json_text = f.read()"
   ]
  },
  {
   "cell_type": "code",
   "execution_count": 8,
   "metadata": {},
   "outputs": [
    {
     "name": "stdout",
     "output_type": "stream",
     "text": [
      "<class 'str'>\n"
     ]
    }
   ],
   "source": [
    "print(type(json_text))"
   ]
  },
  {
   "cell_type": "code",
   "execution_count": 10,
   "metadata": {},
   "outputs": [
    {
     "data": {
      "text/plain": [
       "'{\\n    \"copyright\": \"Yin Hao\",\\n    \"date\": \"2018-10-30\",\\n    \"explanation\": \"Meteors have been shooting out from the constellation of Orion. This was expected, as October is the time of year for the Orionids Meteor Shower. Pictured here, over two dozen meteors were caught in successively added exposures last October over Wulan Hada volcano in Inner Mongolia, China. The featured image shows multiple meteor streaks that can all be connected to a single small region on the sky called the radiant, here visible just above and to the left of the belt of Orion, The Orionids meteors started as sand sized bits expelled from Comet Halley during one of its trips to the inner Solar System. Comet Halley is actually responsible for two known meteor showers, the other known as the Eta Aquarids and visible every May. An Orionids image featured on APOD one year ago today from the same location shows the same car. Next month, the Leonids Meteor Shower from Comet Tempel-Tuttle should also result in some bright meteor streaks. Follow APOD on: Facebook, Instagram, Reddit, or Twitter\",\\n    \"hdurl\": \"https://apod.nasa.gov/apod/image/1810/Orionids_Hao_2324.jpg\",\\n    \"media_type\": \"image\",\\n    \"service_version\": \"v1\",\\n    \"title\": \"Orionids Meteors over Inner Mongolia\",\\n    \"url\": \"https://apod.nasa.gov/apod/image/1810/Orionids_Hao_960.jpg\"\\n}'"
      ]
     },
     "execution_count": 10,
     "metadata": {},
     "output_type": "execute_result"
    }
   ],
   "source": [
    "json_text"
   ]
  },
  {
   "cell_type": "code",
   "execution_count": 12,
   "metadata": {},
   "outputs": [
    {
     "name": "stdout",
     "output_type": "stream",
     "text": [
      "<class 'dict'>\n",
      "Meteors have been shooting out from the constellation of Orion. This was expected, as October is the time of year for the Orionids Meteor Shower. Pictured here, over two dozen meteors were caught in successively added exposures last October over Wulan Hada volcano in Inner Mongolia, China. The featured image shows multiple meteor streaks that can all be connected to a single small region on the sky called the radiant, here visible just above and to the left of the belt of Orion, The Orionids meteors started as sand sized bits expelled from Comet Halley during one of its trips to the inner Solar System. Comet Halley is actually responsible for two known meteor showers, the other known as the Eta Aquarids and visible every May. An Orionids image featured on APOD one year ago today from the same location shows the same car. Next month, the Leonids Meteor Shower from Comet Tempel-Tuttle should also result in some bright meteor streaks. Follow APOD on: Facebook, Instagram, Reddit, or Twitter\n"
     ]
    }
   ],
   "source": [
    "# Decode the JSON string into a Python dictionary.\n",
    "apod_dict = json.loads(json_text)\n",
    "# print(apod_dict['explanation'])\n",
    "\n",
    "print(type(apod_dict))\n",
    "print(apod_dict['explanation'])"
   ]
  },
  {
   "cell_type": "code",
   "execution_count": 15,
   "metadata": {},
   "outputs": [
    {
     "name": "stdout",
     "output_type": "stream",
     "text": [
      "{\n",
      "  \"copyright\": \"Yin Hao\",\n",
      "  \"date\": \"2018-10-30\",\n",
      "  \"explanation\": \"Meteors have been shooting out from the constellation of Orion. This was expected, as October is the time of year for the Orionids Meteor Shower. Pictured here, over two dozen meteors were caught in successively added exposures last October over Wulan Hada volcano in Inner Mongolia, China. The featured image shows multiple meteor streaks that can all be connected to a single small region on the sky called the radiant, here visible just above and to the left of the belt of Orion, The Orionids meteors started as sand sized bits expelled from Comet Halley during one of its trips to the inner Solar System. Comet Halley is actually responsible for two known meteor showers, the other known as the Eta Aquarids and visible every May. An Orionids image featured on APOD one year ago today from the same location shows the same car. Next month, the Leonids Meteor Shower from Comet Tempel-Tuttle should also result in some bright meteor streaks. Follow APOD on: Facebook, Instagram, Reddit, or Twitter\",\n",
      "  \"hdurl\": \"https://apod.nasa.gov/apod/image/1810/Orionids_Hao_2324.jpg\",\n",
      "  \"media_type\": \"image\",\n",
      "  \"service_version\": \"v1\",\n",
      "  \"title\": \"Orionids Meteors over Inner Mongolia\",\n",
      "  \"url\": \"https://apod.nasa.gov/apod/image/1810/Orionids_Hao_960.jpg\"\n",
      "}\n",
      "<class 'str'>\n"
     ]
    }
   ],
   "source": [
    "# Encode the Python dictionary into a JSON string.\n",
    "new_json_string = json.dumps(apod_dict, indent=2)\n",
    "print(new_json_string)\n",
    "print(type(new_json_string))"
   ]
  },
  {
   "cell_type": "code",
   "execution_count": null,
   "metadata": {
    "collapsed": true
   },
   "outputs": [],
   "source": []
  }
 ],
 "metadata": {
  "kernelspec": {
   "display_name": "Python 3",
   "language": "python",
   "name": "python3"
  },
  "language_info": {
   "codemirror_mode": {
    "name": "ipython",
    "version": 3
   },
   "file_extension": ".py",
   "mimetype": "text/x-python",
   "name": "python",
   "nbconvert_exporter": "python",
   "pygments_lexer": "ipython3",
   "version": "3.6.3"
  }
 },
 "nbformat": 4,
 "nbformat_minor": 2
}
